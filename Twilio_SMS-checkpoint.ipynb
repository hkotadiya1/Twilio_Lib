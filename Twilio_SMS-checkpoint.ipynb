{
 "cells": [
  {
   "cell_type": "code",
   "execution_count": null,
   "id": "a47bbf74",
   "metadata": {},
   "outputs": [],
   "source": [
    "from twilio.rest import Client\n",
    "  \n",
    "account_sid = 'SID'\n",
    "auth_token = 'Auth_Token'\n",
    "  \n",
    "client = Client(account_sid, auth_token)\n",
    "message = client.messages.create(\n",
    "                              from_='+15017122661',\n",
    "                              body ='Finding Peace.',\n",
    "                              to ='+91*********'\n",
    "                          )\n",
    "  print(message.sid)"
   ]
  }
 ],
 "metadata": {
  "kernelspec": {
   "display_name": "Python 3 (ipykernel)",
   "language": "python",
   "name": "python3"
  },
  "language_info": {
   "codemirror_mode": {
    "name": "ipython",
    "version": 3
   },
   "file_extension": ".py",
   "mimetype": "text/x-python",
   "name": "python",
   "nbconvert_exporter": "python",
   "pygments_lexer": "ipython3",
   "version": "3.8.8"
  }
 },
 "nbformat": 4,
 "nbformat_minor": 5
}
